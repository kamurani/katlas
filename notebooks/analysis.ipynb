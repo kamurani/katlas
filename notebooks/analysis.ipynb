{
 "cells": [
  {
   "attachments": {},
   "cell_type": "markdown",
   "metadata": {},
   "source": [
    "## Example analysis using katlas"
   ]
  },
  {
   "cell_type": "code",
   "execution_count": 37,
   "metadata": {},
   "outputs": [
    {
     "name": "stdout",
     "output_type": "stream",
     "text": [
      "The autoreload extension is already loaded. To reload it, use:\n",
      "  %reload_ext autoreload\n"
     ]
    }
   ],
   "source": [
    "# Autoreload \n",
    "%load_ext autoreload\n",
    "%autoreload 2"
   ]
  },
  {
   "cell_type": "code",
   "execution_count": 38,
   "metadata": {},
   "outputs": [],
   "source": [
    "import pandas as pd\n",
    "\n",
    "import numpy as np\n",
    "\n",
    "from katlas.motif import SequenceMotif\n",
    "from katlas.atlas import KinaseAtlas"
   ]
  },
  {
   "cell_type": "code",
   "execution_count": 39,
   "metadata": {},
   "outputs": [],
   "source": [
    "k = KinaseAtlas()"
   ]
  },
  {
   "cell_type": "code",
   "execution_count": 40,
   "metadata": {},
   "outputs": [
    {
     "data": {
      "text/plain": [
       "        -5 -4 -3 -2 -1  0  1  2  3  4  5  6\n",
       "Residue  _  S  P  X  L  S  Q  E  X  Y  D  L"
      ]
     },
     "execution_count": 40,
     "metadata": {},
     "output_type": "execute_result"
    }
   ],
   "source": [
    "SequenceMotif('____spxLs*QExyDL', phospho_priming=False)\n"
   ]
  },
  {
   "cell_type": "code",
   "execution_count": 41,
   "metadata": {},
   "outputs": [
    {
     "data": {
      "text/plain": [
       "        -5 -4 -3 -2 -1  0  1  2  3  4   5  6\n",
       "Residue  V  E  P  P  L  S  Q  E  T  F  pS  D"
      ]
     },
     "execution_count": 41,
     "metadata": {},
     "output_type": "execute_result"
    }
   ],
   "source": [
    "s = SequenceMotif('PSVEPPLS*QETFsDL', phospho_priming=True)\n",
    "s"
   ]
  },
  {
   "cell_type": "code",
   "execution_count": 42,
   "metadata": {},
   "outputs": [
    {
     "data": {
      "text/plain": [
       "CDK17    3.899698\n",
       "P38G     3.897966\n",
       "CDK3     3.858518\n",
       "CDK16    3.850179\n",
       "JNK1     3.825328\n",
       "           ...   \n",
       "YSK1    -0.044538\n",
       "RIPK2   -0.073090\n",
       "TTBK2   -0.224486\n",
       "TTBK1   -0.422559\n",
       "IRAK1   -0.542458\n",
       "Length: 303, dtype: float64"
      ]
     },
     "execution_count": 42,
     "metadata": {},
     "output_type": "execute_result"
    }
   ],
   "source": [
    "\n",
    "s = SequenceMotif(\"Qs*P\", phospho_priming=True)\n",
    "k.kinase_scores(s, method=\"sum\")\n"
   ]
  },
  {
   "cell_type": "code",
   "execution_count": 24,
   "metadata": {},
   "outputs": [
    {
     "name": "stdout",
     "output_type": "stream",
     "text": [
      "-5  -4  -3  -2  -1  0   1   2   3   4   5   6   \n",
      "_   _   P   P   L   t   _   _   _   _   _   _   \n"
     ]
    },
    {
     "data": {
      "text/plain": [
       "MAK       3.537594\n",
       "P38B      3.023131\n",
       "ERK1      3.004088\n",
       "MOK       2.989448\n",
       "MPSK1     2.911135\n",
       "            ...   \n",
       "CAMK1D    0.545474\n",
       "AKT3      0.521754\n",
       "SGK1      0.520850\n",
       "CAMK1G    0.498047\n",
       "SBK       0.400647\n",
       "Length: 303, dtype: float64"
      ]
     },
     "execution_count": 24,
     "metadata": {},
     "output_type": "execute_result"
    }
   ],
   "source": [
    "motif = \"PPLt*\" \n",
    "phospho_priming = True\n",
    "\n",
    "sm = SequenceMotif(motif, phospho_priming=phospho_priming)\n",
    "print(sm)\n",
    "k.kinase_scores(sm)"
   ]
  }
 ],
 "metadata": {
  "kernelspec": {
   "display_name": "Python 3.10.9 ('kimono')",
   "language": "python",
   "name": "python3"
  },
  "language_info": {
   "codemirror_mode": {
    "name": "ipython",
    "version": 3
   },
   "file_extension": ".py",
   "mimetype": "text/x-python",
   "name": "python",
   "nbconvert_exporter": "python",
   "pygments_lexer": "ipython3",
   "version": "3.10.9"
  },
  "orig_nbformat": 4,
  "vscode": {
   "interpreter": {
    "hash": "e6b1e962551f2b5c77872f19a1344149ef0d91396e0b271e5aa46973dc01c233"
   }
  }
 },
 "nbformat": 4,
 "nbformat_minor": 2
}
