{
 "cells": [
  {
   "cell_type": "code",
   "execution_count": 39,
   "metadata": {},
   "outputs": [
    {
     "name": "stdout",
     "output_type": "stream",
     "text": [
      "The autoreload extension is already loaded. To reload it, use:\n",
      "  %reload_ext autoreload\n"
     ]
    }
   ],
   "source": [
    "# Autoreload \n",
    "%load_ext autoreload\n",
    "%autoreload 2"
   ]
  },
  {
   "cell_type": "code",
   "execution_count": 40,
   "metadata": {},
   "outputs": [],
   "source": [
    "# TODO: \n",
    "# use decorator to validate AA seq"
   ]
  },
  {
   "cell_type": "code",
   "execution_count": 41,
   "metadata": {},
   "outputs": [
    {
     "data": {
      "text/plain": [
       "\"\\nExpected input format:\\nThe phosphorylation site should be denoted with an asterisk (*) after the phospho-acceptor. The acceptor must be a serine, threonine, or tyrosine.\\nThe site sequence can include any of the 20 amino acids, 'X' for masking a position, and '_' for truncation.\\nUse lower-case letters (s/t/y) and check the corresponding box in the advanced options to including phosphorylated residues (pS/pT/pY).\\n\\nExamples:\\n\\nPSVEPPLs*QETFSDL\\n\\nPSVEPPLS*QETFSDL\\n\\nPSVEXPLs*QXTF___\\n\\nPPLs*\\n\\nPSVEPPLs*QEtFSDL (with phospho-priming option checked)\\n\\n\""
      ]
     },
     "execution_count": 41,
     "metadata": {},
     "output_type": "execute_result"
    }
   ],
   "source": [
    "# Represent a kinase recognition motif from a string. \n",
    "\n",
    "\"\"\"\n",
    "Expected input format:\n",
    "The phosphorylation site should be denoted with an asterisk (*) after the phospho-acceptor. The acceptor must be a serine, threonine, or tyrosine.\n",
    "The site sequence can include any of the 20 amino acids, 'X' for masking a position, and '_' for truncation.\n",
    "Use lower-case letters (s/t/y) and check the corresponding box in the advanced options to including phosphorylated residues (pS/pT/pY).\n",
    "\n",
    "Examples:\n",
    "\n",
    "PSVEPPLs*QETFSDL\n",
    "\n",
    "PSVEPPLS*QETFSDL\n",
    "\n",
    "PSVEXPLs*QXTF___\n",
    "\n",
    "PPLs*\n",
    "\n",
    "PSVEPPLs*QEtFSDL (with phospho-priming option checked)\n",
    "\n",
    "\"\"\"\n",
    "\n"
   ]
  },
  {
   "cell_type": "code",
   "execution_count": 42,
   "metadata": {},
   "outputs": [],
   "source": [
    "import pandas as pd\n",
    "\n",
    "import numpy as np\n",
    "\n",
    "from katlas.motif import SequenceMotif\n",
    "from katlas import katlas"
   ]
  },
  {
   "cell_type": "code",
   "execution_count": 43,
   "metadata": {},
   "outputs": [
    {
     "data": {
      "text/plain": [
       "        -5 -4 -3 -2 -1  0  1  2  3  4  5  6\n",
       "Residue  _  S  P  X  L  S  Q  E  X  Y  D  L"
      ]
     },
     "execution_count": 43,
     "metadata": {},
     "output_type": "execute_result"
    }
   ],
   "source": [
    "SequenceMotif('____spxLs*QExyDL', phospho_priming=False)"
   ]
  },
  {
   "cell_type": "code",
   "execution_count": 44,
   "metadata": {},
   "outputs": [
    {
     "data": {
      "text/plain": [
       "        -5 -4 -3 -2 -1  0  1  2  3  4   5  6\n",
       "Residue  V  E  P  P  L  S  Q  E  T  F  pS  D"
      ]
     },
     "execution_count": 44,
     "metadata": {},
     "output_type": "execute_result"
    }
   ],
   "source": [
    "SequenceMotif('PSVEPPLS*QETFsDL', phospho_priming=True)"
   ]
  },
  {
   "cell_type": "code",
   "execution_count": 45,
   "metadata": {},
   "outputs": [
    {
     "data": {
      "text/plain": [
       "        -5 -4 -3 -2 -1  0  1  2  3  4  5  6\n",
       "Residue  V  E  P  P  L  S  Q  E  T  F  S  D"
      ]
     },
     "execution_count": 45,
     "metadata": {},
     "output_type": "execute_result"
    }
   ],
   "source": [
    "s = SequenceMotif('PSVEPPLS*QETFsDL', phospho_priming=False)\n",
    "s"
   ]
  },
  {
   "cell_type": "code",
   "execution_count": 50,
   "metadata": {},
   "outputs": [
    {
     "data": {
      "text/plain": [
       "'VEPPLSQETFSD'"
      ]
     },
     "execution_count": 50,
     "metadata": {},
     "output_type": "execute_result"
    }
   ],
   "source": [
    "s.motif"
   ]
  },
  {
   "cell_type": "code",
   "execution_count": 17,
   "metadata": {},
   "outputs": [],
   "source": [
    "from katlas.motif.PSSM import PSSM\n",
    "\n",
    "df = PSSM.pssm"
   ]
  },
  {
   "cell_type": "code",
   "execution_count": 18,
   "metadata": {},
   "outputs": [
    {
     "data": {
      "text/plain": [
       "        -5 -4 -3 -2 -1  0  1  2  3  4  5  6\n",
       "Residue  V  E  P  P  L  S  Q  E  T  F  S  D"
      ]
     },
     "execution_count": 18,
     "metadata": {},
     "output_type": "execute_result"
    }
   ],
   "source": [
    "sm1 = SequenceMotif(\"PSVEPPLs*QETFSDL\")\n",
    "sm1"
   ]
  },
  {
   "cell_type": "code",
   "execution_count": 23,
   "metadata": {},
   "outputs": [
    {
     "data": {
      "text/plain": [
       "        -5 -4 -3 -2 -1  0  1  2  3  4   5  6\n",
       "Residue  V  E  P  P  L  S  Q  E  T  F  pS  D"
      ]
     },
     "execution_count": 23,
     "metadata": {},
     "output_type": "execute_result"
    }
   ],
   "source": [
    "sm = SequenceMotif('PSVEPPLS*QETFsDL', phospho_priming=True)\n",
    "sm"
   ]
  },
  {
   "cell_type": "code",
   "execution_count": 24,
   "metadata": {},
   "outputs": [
    {
     "ename": "AttributeError",
     "evalue": "'Series' object has no attribute 'columns'",
     "output_type": "error",
     "traceback": [
      "\u001b[0;31m---------------------------------------------------------------------------\u001b[0m",
      "\u001b[0;31mAttributeError\u001b[0m                            Traceback (most recent call last)",
      "Cell \u001b[0;32mIn[24], line 1\u001b[0m\n\u001b[0;32m----> 1\u001b[0m cols \u001b[39m=\u001b[39m \u001b[39mlist\u001b[39m(df\u001b[39m.\u001b[39;49mcolumns)\n\u001b[1;32m      3\u001b[0m \u001b[39m# Remove any integers from the column strings \u001b[39;00m\n\u001b[1;32m      4\u001b[0m \u001b[39mimport\u001b[39;00m \u001b[39mre\u001b[39;00m\n",
      "File \u001b[0;32m~/opt/anaconda3/envs/alphamap/lib/python3.8/site-packages/pandas/core/generic.py:5583\u001b[0m, in \u001b[0;36mNDFrame.__getattr__\u001b[0;34m(self, name)\u001b[0m\n\u001b[1;32m   5576\u001b[0m \u001b[39mif\u001b[39;00m (\n\u001b[1;32m   5577\u001b[0m     name \u001b[39mnot\u001b[39;00m \u001b[39min\u001b[39;00m \u001b[39mself\u001b[39m\u001b[39m.\u001b[39m_internal_names_set\n\u001b[1;32m   5578\u001b[0m     \u001b[39mand\u001b[39;00m name \u001b[39mnot\u001b[39;00m \u001b[39min\u001b[39;00m \u001b[39mself\u001b[39m\u001b[39m.\u001b[39m_metadata\n\u001b[1;32m   5579\u001b[0m     \u001b[39mand\u001b[39;00m name \u001b[39mnot\u001b[39;00m \u001b[39min\u001b[39;00m \u001b[39mself\u001b[39m\u001b[39m.\u001b[39m_accessors\n\u001b[1;32m   5580\u001b[0m     \u001b[39mand\u001b[39;00m \u001b[39mself\u001b[39m\u001b[39m.\u001b[39m_info_axis\u001b[39m.\u001b[39m_can_hold_identifiers_and_holds_name(name)\n\u001b[1;32m   5581\u001b[0m ):\n\u001b[1;32m   5582\u001b[0m     \u001b[39mreturn\u001b[39;00m \u001b[39mself\u001b[39m[name]\n\u001b[0;32m-> 5583\u001b[0m \u001b[39mreturn\u001b[39;00m \u001b[39mobject\u001b[39;49m\u001b[39m.\u001b[39;49m\u001b[39m__getattribute__\u001b[39;49m(\u001b[39mself\u001b[39;49m, name)\n",
      "\u001b[0;31mAttributeError\u001b[0m: 'Series' object has no attribute 'columns'"
     ]
    }
   ],
   "source": [
    "cols = list(df.columns)\n",
    "\n",
    "# Remove any integers from the column strings \n",
    "import re\n",
    "cols = [re.sub('\\d', '', col) for col in cols]\n",
    "\n",
    "# Remove any '-' characters\n",
    "cols = [re.sub('-', '', col) for col in cols]\n",
    "\n",
    "cols = list(set(cols))\n",
    "\n",
    "allowed_chars = \"\".join(sorted(cols))\n",
    "allowed_chars"
   ]
  },
  {
   "cell_type": "code",
   "execution_count": 25,
   "metadata": {},
   "outputs": [
    {
     "data": {
      "text/plain": [
       "'ACDEFGHIKLMNPQRSTVWYsty'"
      ]
     },
     "execution_count": 25,
     "metadata": {},
     "output_type": "execute_result"
    }
   ],
   "source": [
    "PSSM.allowed_chars"
   ]
  },
  {
   "cell_type": "code",
   "execution_count": 29,
   "metadata": {},
   "outputs": [
    {
     "name": "stdout",
     "output_type": "stream",
     "text": [
      "PSVEPPLS*QETFsDL\n",
      "-5  -4  -3  -2  -1  0   1   2   3   4   5   6   \n",
      "V   E   P   P   L   S   Q   E   T   F   s   D   \n"
     ]
    }
   ],
   "source": [
    "# For each position in the motif, filter the PSSM to only include the amino acid at that position\n",
    "# Then, sum the scores for each amino acid at that position\n",
    "print(sm.sequence)\n",
    "print(sm)\n",
    "motif = sm.motif \n",
    "df = PSSM.pssm \n",
    "\n",
    "# For each key: value pair in the motif dictionary, \n",
    "# filter the PSSM to only include the amino acid at that position. \n",
    "# e.g. for -5: 'P' filter the PSSM to include the \"-5P\" column. \n",
    "\n",
    "# The dataframe's row index is the kinase name.  The columns are of the form {position}{amino acid}\n",
    "\n",
    "\n",
    "positions = [\n",
    "    -5, -4, -3, -2, -1, 1, 2, 3, 4\n",
    "]\n",
    "# Remove positions that are not valid characters\n",
    "\"\"\"\n",
    "cols = [\n",
    "    f\"{str(pos)}{motif[pos]}\" \n",
    "    for pos in positions \n",
    "    if motif[pos] in allowed_chars\n",
    "]\n",
    "\"\"\"\n",
    "\n",
    "cols = [\n",
    "    f\"{str(pos)}{aa}\"\n",
    "    for pos, aa in sorted(motif.items())\n",
    "    if f\"{str(pos)}{aa}\" in df.columns\n",
    "]\n",
    "\n",
    "df = df[cols]\n",
    "\n",
    "\n"
   ]
  },
  {
   "cell_type": "code",
   "execution_count": 30,
   "metadata": {},
   "outputs": [],
   "source": [
    "# Sum the scores for each kinase at each position\n",
    "df = df.sum(axis=1)\n",
    "\n",
    "# log2 transform the scores\n",
    "df = df.apply(lambda x: np.log2(x)) \n",
    "\n",
    "# Sort the scores\n",
    "df = df.sort_values(ascending=False)\n",
    "\n",
    "df.names = ['Kinase', 'Score (log2)']\n"
   ]
  },
  {
   "cell_type": "code",
   "execution_count": 42,
   "metadata": {},
   "outputs": [],
   "source": [
    "class KinaseAtlas():\n",
    "    def kinase_scores(motif):\n",
    "        print(\"Kinase\\t  Score (log2)\")\n",
    "        print(df)"
   ]
  },
  {
   "cell_type": "code",
   "execution_count": 43,
   "metadata": {},
   "outputs": [
    {
     "name": "stdout",
     "output_type": "stream",
     "text": [
      "Kinase\t  Score (log2)\n",
      "FAM20C    4.393787\n",
      "SMG1      4.212663\n",
      "ATM       4.203538\n",
      "DNAPK     4.058282\n",
      "MAK       3.996759\n",
      "            ...   \n",
      "P70S6K    2.544015\n",
      "PKCE      2.531893\n",
      "NEK3      2.519668\n",
      "PKCI      2.459615\n",
      "AKT3      2.444402\n",
      "Length: 303, dtype: float64\n"
     ]
    }
   ],
   "source": [
    "KinaseAtlas.kinase_scores(motif)"
   ]
  },
  {
   "cell_type": "code",
   "execution_count": 60,
   "metadata": {},
   "outputs": [
    {
     "data": {
      "text/plain": [
       "{0: 'S',\n",
       " 1: 'Q',\n",
       " 2: 'E',\n",
       " 3: 'T',\n",
       " 4: 'F',\n",
       " 5: 'S',\n",
       " 6: 'D',\n",
       " -1: 'L',\n",
       " -2: 'P',\n",
       " -3: 'P',\n",
       " -4: 'E',\n",
       " -5: 'V'}"
      ]
     },
     "execution_count": 60,
     "metadata": {},
     "output_type": "execute_result"
    }
   ],
   "source": []
  },
  {
   "cell_type": "markdown",
   "metadata": {},
   "source": []
  },
  {
   "cell_type": "code",
   "execution_count": 84,
   "metadata": {},
   "outputs": [],
   "source": [
    "scores = [3, 4, 3, 2, 4, 2, 5, 5, 4, 4, 1, 5, 3, 3, 3, 3, 3, 5, 5]"
   ]
  },
  {
   "cell_type": "code",
   "execution_count": 86,
   "metadata": {},
   "outputs": [
    {
     "data": {
      "text/plain": [
       "67"
      ]
     },
     "execution_count": 86,
     "metadata": {},
     "output_type": "execute_result"
    }
   ],
   "source": [
    "sum(scores)\n",
    "\n"
   ]
  }
 ],
 "metadata": {
  "kernelspec": {
   "display_name": "alphamap",
   "language": "python",
   "name": "python3"
  },
  "language_info": {
   "codemirror_mode": {
    "name": "ipython",
    "version": 3
   },
   "file_extension": ".py",
   "mimetype": "text/x-python",
   "name": "python",
   "nbconvert_exporter": "python",
   "pygments_lexer": "ipython3",
   "version": "3.8.16"
  },
  "orig_nbformat": 4,
  "vscode": {
   "interpreter": {
    "hash": "4fec45262150fb22ecec58d34c6850d670a612d1dbc7ffef5c7c32ab4bac69bd"
   }
  }
 },
 "nbformat": 4,
 "nbformat_minor": 2
}
