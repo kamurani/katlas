{
 "cells": [
  {
   "cell_type": "code",
   "execution_count": 1,
   "metadata": {},
   "outputs": [],
   "source": [
    "# Autoreload \n",
    "%load_ext autoreload\n",
    "%autoreload 2"
   ]
  },
  {
   "cell_type": "code",
   "execution_count": 2,
   "metadata": {},
   "outputs": [],
   "source": [
    "from katlas.motif import SequenceMotif"
   ]
  },
  {
   "cell_type": "code",
   "execution_count": null,
   "metadata": {},
   "outputs": [],
   "source": [
    "# TODO: \n",
    "# use decorator to validate AA seq"
   ]
  },
  {
   "cell_type": "code",
   "execution_count": null,
   "metadata": {},
   "outputs": [],
   "source": [
    "# Represent a kinase recognition motif from a string. \n",
    "\n",
    "\"\"\"\n",
    "Expected input format:\n",
    "The phosphorylation site should be denoted with an asterisk (*) after the phospho-acceptor. The acceptor must be a serine, threonine, or tyrosine.\n",
    "The site sequence can include any of the 20 amino acids, 'X' for masking a position, and '_' for truncation.\n",
    "Use lower-case letters (s/t/y) and check the corresponding box in the advanced options to including phosphorylated residues (pS/pT/pY).\n",
    "\n",
    "Examples:\n",
    "\n",
    "PSVEPPLs*QETFSDL\n",
    "\n",
    "PSVEPPLS*QETFSDL\n",
    "\n",
    "PSVEXPLs*QXTF___\n",
    "\n",
    "PPLs*\n",
    "\n",
    "PSVEPPLs*QEtFSDL (with phospho-priming option checked)\n",
    "\n",
    "\"\"\"\n",
    "\n"
   ]
  },
  {
   "cell_type": "code",
   "execution_count": 68,
   "metadata": {},
   "outputs": [],
   "source": [
    "import pandas as pd"
   ]
  },
  {
   "cell_type": "code",
   "execution_count": 96,
   "metadata": {},
   "outputs": [],
   "source": []
  },
  {
   "cell_type": "code",
   "execution_count": 9,
   "metadata": {},
   "outputs": [
    {
     "data": {
      "text/plain": [
       "        -5 -4 -3 -2 -1  0  1  2  3  4  5  6\n",
       "Residue  _  S  P  X  L  S  Q  E  X  Y  D  L"
      ]
     },
     "execution_count": 9,
     "metadata": {},
     "output_type": "execute_result"
    }
   ],
   "source": [
    "s = SequenceMotif('____spxLs*QExyDL', phospho_priming=False)\n",
    "s"
   ]
  },
  {
   "cell_type": "code",
   "execution_count": null,
   "metadata": {},
   "outputs": [],
   "source": []
  },
  {
   "cell_type": "code",
   "execution_count": 85,
   "metadata": {},
   "outputs": [
    {
     "data": {
      "text/plain": [
       "        -5 -4 -3 -2 -1  0  1  2  3  4  5  6\n",
       "Residue  V  E  P  P  L  S  Q  E  T  F  S  D"
      ]
     },
     "execution_count": 85,
     "metadata": {},
     "output_type": "execute_result"
    }
   ],
   "source": [
    "s = SequenceMotif('PSVEPPLs*QETFSDL')\n",
    "s"
   ]
  },
  {
   "cell_type": "code",
   "execution_count": 43,
   "metadata": {},
   "outputs": [
    {
     "name": "stdout",
     "output_type": "stream",
     "text": [
      "1\n",
      "2\n",
      "3\n",
      "4\n"
     ]
    }
   ],
   "source": [
    "for i in range(1, 5):\n",
    "    print(i)"
   ]
  },
  {
   "cell_type": "code",
   "execution_count": null,
   "metadata": {},
   "outputs": [],
   "source": []
  },
  {
   "cell_type": "code",
   "execution_count": 41,
   "metadata": {},
   "outputs": [
    {
     "data": {
      "text/plain": [
       "'PSVEPPLS*QETFSDL'"
      ]
     },
     "execution_count": 41,
     "metadata": {},
     "output_type": "execute_result"
    }
   ],
   "source": [
    "s = SequenceMotif('PsvEPPLs*QETFSDL', phospho_priming=False)\n",
    "s.sequence"
   ]
  },
  {
   "cell_type": "code",
   "execution_count": 27,
   "metadata": {},
   "outputs": [],
   "source": [
    "# Turn into list of lines \n",
    "aastring = aastring.splitlines()"
   ]
  },
  {
   "cell_type": "code",
   "execution_count": 28,
   "metadata": {},
   "outputs": [
    {
     "data": {
      "text/plain": [
       "['A: Alanine',\n",
       " 'R: Arginine',\n",
       " 'N: Asparagine',\n",
       " 'D: Aspartic acid',\n",
       " 'C: Cysteine',\n",
       " 'E: Glutamic acid',\n",
       " 'Q: Glutamine',\n",
       " 'G: Glycine',\n",
       " 'H: Histidine',\n",
       " 'I: Isoleucine',\n",
       " 'L: Leucine',\n",
       " 'K: Lysine',\n",
       " 'M: Methionine',\n",
       " 'F: Phenylalanine',\n",
       " 'P: Proline',\n",
       " 'S: Serine',\n",
       " 'T: Threonine',\n",
       " 'A: Tryptophan',\n",
       " 'Y: Tyrosine',\n",
       " 'V: Valine']"
      ]
     },
     "execution_count": 28,
     "metadata": {},
     "output_type": "execute_result"
    }
   ],
   "source": [
    "aastring"
   ]
  },
  {
   "cell_type": "code",
   "execution_count": 29,
   "metadata": {},
   "outputs": [],
   "source": [
    "aas = {}\n",
    "for line in aastring:\n",
    "    # Split on colon\n",
    "    line = line.split(':')\n",
    "    \n",
    "    # Get the amino acid\n",
    "    aa = line[0].strip()\n",
    "    # Get the description\n",
    "    desc = line[1].strip()\n",
    "    # Print the amino acid and description\n",
    "    aas[aa] = desc\n",
    "        "
   ]
  },
  {
   "cell_type": "code",
   "execution_count": 30,
   "metadata": {},
   "outputs": [
    {
     "data": {
      "text/plain": [
       "{'A': 'Tryptophan',\n",
       " 'R': 'Arginine',\n",
       " 'N': 'Asparagine',\n",
       " 'D': 'Aspartic acid',\n",
       " 'C': 'Cysteine',\n",
       " 'E': 'Glutamic acid',\n",
       " 'Q': 'Glutamine',\n",
       " 'G': 'Glycine',\n",
       " 'H': 'Histidine',\n",
       " 'I': 'Isoleucine',\n",
       " 'L': 'Leucine',\n",
       " 'K': 'Lysine',\n",
       " 'M': 'Methionine',\n",
       " 'F': 'Phenylalanine',\n",
       " 'P': 'Proline',\n",
       " 'S': 'Serine',\n",
       " 'T': 'Threonine',\n",
       " 'Y': 'Tyrosine',\n",
       " 'V': 'Valine'}"
      ]
     },
     "execution_count": 30,
     "metadata": {},
     "output_type": "execute_result"
    }
   ],
   "source": [
    "aas"
   ]
  },
  {
   "cell_type": "code",
   "execution_count": null,
   "metadata": {},
   "outputs": [],
   "source": []
  },
  {
   "cell_type": "code",
   "execution_count": 2,
   "metadata": {},
   "outputs": [
    {
     "ename": "SyntaxError",
     "evalue": "EOF while scanning triple-quoted string literal (360292778.py, line 54)",
     "output_type": "error",
     "traceback": [
      "\u001b[0;36m  Cell \u001b[0;32mIn[2], line 54\u001b[0;36m\u001b[0m\n\u001b[0;31m    \u001b[0m\n\u001b[0m    ^\u001b[0m\n\u001b[0;31mSyntaxError\u001b[0m\u001b[0;31m:\u001b[0m EOF while scanning triple-quoted string literal\n"
     ]
    }
   ],
   "source": [
    "# The representation should store each residue at position \n",
    "# 0 is the phospho acceptor \n",
    "# -5 to -1 are the residues before the acceptor\n",
    "# 1 to 6 are the residues after the acceptor\n",
    "# If phospho-priming is True, then lowercase letters (s/t/y) are phosphorylated residues\n",
    "# and replaced by pS/pT/pY.  If phospho-priming is False, then lowercase letters are capitalized.\n",
    "\n",
    "import re \n",
    "\"\"\"\n",
    "Amino acids\n",
    "A: Alanine\n",
    "R: Arginine\n",
    "N: Asparagine\n",
    "D: Aspartic acid\n",
    "C: Cysteine\n",
    "E: Glutamic acid\n",
    "Q: Glutamine\n",
    "G: Glycine\n",
    "H: Histidine\n",
    "I: Isoleucine\n",
    "L: Leucine\n",
    "K: Lysine\n",
    "M: Methionine\n",
    "F: Phenylalanine\n",
    "P: Proline\n",
    "S: Serine\n",
    "T: Threonine\n",
    "A: Tryptophan\n",
    "Y: Tyrosine\n",
    "V: Valine\n",
    "\"\"\"\n",
    "\n",
    "\n",
    "\n",
    "class SequenceMotif(object):\n",
    "\n",
    "    def __init__(\n",
    "        self, \n",
    "        sequence, \n",
    "        name=None,\n",
    "        phospho_priming=False,\n",
    "    ):\n",
    "        self.sequence = sequence\n",
    "        self.name = name\n",
    "        self.phospho_priming = phospho_priming\n",
    "\n",
    "        self._parse_string()\n",
    "\n",
    "    def _parse_string(self):\n",
    "        # Replace lowercase letters with pS/pT/pY if phospho-priming is True\n",
    "        if self.phospho_priming:\n",
    "            self.sequence = re.sub('s', 'pS', self.sequence)\n",
    "            self.sequence = re.sub('t', 'pT', self.sequence)\n",
    "            self.sequence = re.sub('y', 'pY', self.sequence)\n",
    "\n",
    "        \n"
   ]
  },
  {
   "cell_type": "code",
   "execution_count": 1,
   "metadata": {},
   "outputs": [],
   "source": [
    "motif_str = \"PSVEXPLs*QXTF___\""
   ]
  },
  {
   "cell_type": "code",
   "execution_count": null,
   "metadata": {},
   "outputs": [],
   "source": [
    "\"\"\"Parse the string into an array of amino acids. \n",
    "\n",
    "The "
   ]
  }
 ],
 "metadata": {
  "kernelspec": {
   "display_name": "alphamap",
   "language": "python",
   "name": "python3"
  },
  "language_info": {
   "codemirror_mode": {
    "name": "ipython",
    "version": 3
   },
   "file_extension": ".py",
   "mimetype": "text/x-python",
   "name": "python",
   "nbconvert_exporter": "python",
   "pygments_lexer": "ipython3",
   "version": "3.8.16"
  },
  "orig_nbformat": 4,
  "vscode": {
   "interpreter": {
    "hash": "4fec45262150fb22ecec58d34c6850d670a612d1dbc7ffef5c7c32ab4bac69bd"
   }
  }
 },
 "nbformat": 4,
 "nbformat_minor": 2
}
