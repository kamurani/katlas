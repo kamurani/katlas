{
 "cells": [
  {
   "cell_type": "code",
   "execution_count": 31,
   "metadata": {},
   "outputs": [
    {
     "name": "stdout",
     "output_type": "stream",
     "text": [
      "The autoreload extension is already loaded. To reload it, use:\n",
      "  %reload_ext autoreload\n"
     ]
    }
   ],
   "source": [
    "# Autoreload \n",
    "%load_ext autoreload\n",
    "%autoreload 2"
   ]
  },
  {
   "cell_type": "code",
   "execution_count": 32,
   "metadata": {},
   "outputs": [],
   "source": [
    "from katlas.motif import SequenceMotif"
   ]
  },
  {
   "cell_type": "code",
   "execution_count": 34,
   "metadata": {},
   "outputs": [],
   "source": [
    "# TODO: \n",
    "# use decorator to validate AA seq"
   ]
  },
  {
   "cell_type": "code",
   "execution_count": 33,
   "metadata": {},
   "outputs": [
    {
     "data": {
      "text/plain": [
       "\"\\nExpected input format:\\nThe phosphorylation site should be denoted with an asterisk (*) after the phospho-acceptor. The acceptor must be a serine, threonine, or tyrosine.\\nThe site sequence can include any of the 20 amino acids, 'X' for masking a position, and '_' for truncation.\\nUse lower-case letters (s/t/y) and check the corresponding box in the advanced options to including phosphorylated residues (pS/pT/pY).\\n\\nExamples:\\n\\nPSVEPPLs*QETFSDL\\n\\nPSVEPPLS*QETFSDL\\n\\nPSVEXPLs*QXTF___\\n\\nPPLs*\\n\\nPSVEPPLs*QEtFSDL (with phospho-priming option checked)\\n\\n\""
      ]
     },
     "execution_count": 33,
     "metadata": {},
     "output_type": "execute_result"
    }
   ],
   "source": [
    "# Represent a kinase recognition motif from a string. \n",
    "\n",
    "\"\"\"\n",
    "Expected input format:\n",
    "The phosphorylation site should be denoted with an asterisk (*) after the phospho-acceptor. The acceptor must be a serine, threonine, or tyrosine.\n",
    "The site sequence can include any of the 20 amino acids, 'X' for masking a position, and '_' for truncation.\n",
    "Use lower-case letters (s/t/y) and check the corresponding box in the advanced options to including phosphorylated residues (pS/pT/pY).\n",
    "\n",
    "Examples:\n",
    "\n",
    "PSVEPPLs*QETFSDL\n",
    "\n",
    "PSVEPPLS*QETFSDL\n",
    "\n",
    "PSVEXPLs*QXTF___\n",
    "\n",
    "PPLs*\n",
    "\n",
    "PSVEPPLs*QEtFSDL (with phospho-priming option checked)\n",
    "\n",
    "\"\"\"\n",
    "\n"
   ]
  },
  {
   "cell_type": "code",
   "execution_count": 35,
   "metadata": {},
   "outputs": [],
   "source": [
    "import pandas as pd\n",
    "\n",
    "import numpy as np"
   ]
  },
  {
   "cell_type": "code",
   "execution_count": 36,
   "metadata": {},
   "outputs": [
    {
     "data": {
      "text/plain": [
       "        -5 -4 -3 -2 -1  0  1  2  3  4  5  6\n",
       "Residue  _  S  P  X  L  S  *  Q  E  X  Y  D"
      ]
     },
     "execution_count": 36,
     "metadata": {},
     "output_type": "execute_result"
    }
   ],
   "source": [
    "s = SequenceMotif('____spxLs*QExyDL', phospho_priming=False)\n",
    "s"
   ]
  },
  {
   "cell_type": "code",
   "execution_count": 46,
   "metadata": {},
   "outputs": [
    {
     "data": {
      "text/plain": [
       "        -5 -4 -3 -2 -1  0  1  2  3  4  5   6\n",
       "Residue  V  E  P  P  L  S  *  Q  E  T  F  pS"
      ]
     },
     "execution_count": 46,
     "metadata": {},
     "output_type": "execute_result"
    }
   ],
   "source": [
    "s = SequenceMotif('PSVEPPLS*QETFsDL', phospho_priming=True)\n",
    "s"
   ]
  },
  {
   "cell_type": "code",
   "execution_count": 47,
   "metadata": {},
   "outputs": [
    {
     "data": {
      "text/plain": [
       "{0: 'S',\n",
       " 1: '*',\n",
       " 2: 'Q',\n",
       " 3: 'E',\n",
       " 4: 'T',\n",
       " 5: 'F',\n",
       " 6: 's',\n",
       " -1: 'L',\n",
       " -2: 'P',\n",
       " -3: 'P',\n",
       " -4: 'E',\n",
       " -5: 'V'}"
      ]
     },
     "execution_count": 47,
     "metadata": {},
     "output_type": "execute_result"
    }
   ],
   "source": [
    "s.motif"
   ]
  },
  {
   "cell_type": "code",
   "execution_count": 54,
   "metadata": {},
   "outputs": [],
   "source": [
    "from katlas.motif.PSSM import PSSM\n",
    "\n",
    "df = PSSM.pssm"
   ]
  },
  {
   "cell_type": "code",
   "execution_count": 55,
   "metadata": {},
   "outputs": [
    {
     "data": {
      "text/plain": [
       "        -5 -4 -3 -2 -1  0  1  2  3  4  5  6\n",
       "Residue  V  E  P  P  L  S  Q  E  T  F  S  D"
      ]
     },
     "execution_count": 55,
     "metadata": {},
     "output_type": "execute_result"
    }
   ],
   "source": [
    "sm = SequenceMotif(\"PSVEPPLs*QETFSDL\")\n",
    "sm"
   ]
  },
  {
   "cell_type": "code",
   "execution_count": 56,
   "metadata": {},
   "outputs": [
    {
     "data": {
      "text/plain": [
       "'ACDEFGHIKLMNPQRSTVWYsty'"
      ]
     },
     "execution_count": 56,
     "metadata": {},
     "output_type": "execute_result"
    }
   ],
   "source": [
    "cols = list(df.columns)\n",
    "\n",
    "# Remove any integers from the column strings \n",
    "import re\n",
    "cols = [re.sub('\\d', '', col) for col in cols]\n",
    "\n",
    "# Remove any '-' characters\n",
    "cols = [re.sub('-', '', col) for col in cols]\n",
    "\n",
    "cols = list(set(cols))\n",
    "\n",
    "allowed_chars = \"\".join(sorted(cols))\n",
    "allowed_chars"
   ]
  },
  {
   "cell_type": "code",
   "execution_count": 57,
   "metadata": {},
   "outputs": [
    {
     "data": {
      "text/plain": [
       "'ACDEFGHIKLMNPQRSTVWYsty'"
      ]
     },
     "execution_count": 57,
     "metadata": {},
     "output_type": "execute_result"
    }
   ],
   "source": [
    "PSSM.allowed_chars"
   ]
  },
  {
   "cell_type": "code",
   "execution_count": 75,
   "metadata": {},
   "outputs": [
    {
     "name": "stdout",
     "output_type": "stream",
     "text": [
      "PSVEPPLS*QETFSDL\n"
     ]
    }
   ],
   "source": [
    "# For each position in the motif, filter the PSSM to only include the amino acid at that position\n",
    "# Then, sum the scores for each amino acid at that position\n",
    "print(sm.sequence)\n",
    "motif = sm.motif \n",
    "df = PSSM.pssm \n",
    "\n",
    "# For each key: value pair in the motif dictionary, \n",
    "# filter the PSSM to only include the amino acid at that position. \n",
    "# e.g. for -5: 'P' filter the PSSM to include the \"-5P\" column. \n",
    "\n",
    "# The dataframe's row index is the kinase name.  The columns are of the form {position}{amino acid}\n",
    "\n",
    "\n",
    "positions = [\n",
    "    -5, -4, -3, -2, -1, 1, 2, 3, 4\n",
    "]\n",
    "# Remove positions that are not valid characters\n",
    "\"\"\"\n",
    "cols = [\n",
    "    f\"{str(pos)}{motif[pos]}\" \n",
    "    for pos in positions \n",
    "    if motif[pos] in allowed_chars\n",
    "]\n",
    "\"\"\"\n",
    "\n",
    "cols = [\n",
    "    f\"{str(pos)}{aa}\"\n",
    "    for pos, aa in sorted(motif.items())\n",
    "    if f\"{str(pos)}{aa}\" in df.columns\n",
    "]\n",
    "\n",
    "df = df[cols]\n",
    "\n",
    "\n"
   ]
  },
  {
   "cell_type": "code",
   "execution_count": 76,
   "metadata": {},
   "outputs": [
    {
     "data": {
      "text/plain": [
       "AAK1       8.9115\n",
       "ACVR2A     9.0905\n",
       "ACVR2B     8.8369\n",
       "AKT1       6.3152\n",
       "AKT2       6.2113\n",
       "           ...   \n",
       "YANK2     10.1362\n",
       "YANK3      9.0560\n",
       "YSK1       6.7054\n",
       "YSK4       7.5064\n",
       "ZAK        7.2170\n",
       "Length: 303, dtype: float64"
      ]
     },
     "execution_count": 76,
     "metadata": {},
     "output_type": "execute_result"
    }
   ],
   "source": [
    "# Sum the scores for each kinase at each position\n",
    "df = df.sum(axis=1)\n",
    "df"
   ]
  },
  {
   "cell_type": "code",
   "execution_count": 74,
   "metadata": {},
   "outputs": [
    {
     "data": {
      "text/html": [
       "<div>\n",
       "<style scoped>\n",
       "    .dataframe tbody tr th:only-of-type {\n",
       "        vertical-align: middle;\n",
       "    }\n",
       "\n",
       "    .dataframe tbody tr th {\n",
       "        vertical-align: top;\n",
       "    }\n",
       "\n",
       "    .dataframe thead th {\n",
       "        text-align: right;\n",
       "    }\n",
       "</style>\n",
       "<table border=\"1\" class=\"dataframe\">\n",
       "  <thead>\n",
       "    <tr style=\"text-align: right;\">\n",
       "      <th></th>\n",
       "      <th>-5V</th>\n",
       "      <th>-4E</th>\n",
       "      <th>-3P</th>\n",
       "      <th>-2P</th>\n",
       "      <th>-1L</th>\n",
       "      <th>1Q</th>\n",
       "      <th>2E</th>\n",
       "      <th>3T</th>\n",
       "      <th>4F</th>\n",
       "    </tr>\n",
       "  </thead>\n",
       "  <tbody>\n",
       "    <tr>\n",
       "      <th>AAK1</th>\n",
       "      <td>0.693230</td>\n",
       "      <td>-0.072179</td>\n",
       "      <td>0.882369</td>\n",
       "      <td>-1.377819</td>\n",
       "      <td>0.152638</td>\n",
       "      <td>-2.091725</td>\n",
       "      <td>-0.168123</td>\n",
       "      <td>-0.015374</td>\n",
       "      <td>-0.168771</td>\n",
       "    </tr>\n",
       "    <tr>\n",
       "      <th>ACVR2A</th>\n",
       "      <td>0.023468</td>\n",
       "      <td>0.562865</td>\n",
       "      <td>-0.228030</td>\n",
       "      <td>-1.639355</td>\n",
       "      <td>0.349818</td>\n",
       "      <td>0.297720</td>\n",
       "      <td>0.037312</td>\n",
       "      <td>0.003458</td>\n",
       "      <td>-0.168285</td>\n",
       "    </tr>\n",
       "    <tr>\n",
       "      <th>ACVR2B</th>\n",
       "      <td>-0.114660</td>\n",
       "      <td>0.572405</td>\n",
       "      <td>-0.350155</td>\n",
       "      <td>-1.577336</td>\n",
       "      <td>0.464773</td>\n",
       "      <td>0.026588</td>\n",
       "      <td>0.133827</td>\n",
       "      <td>-0.011588</td>\n",
       "      <td>-0.288417</td>\n",
       "    </tr>\n",
       "    <tr>\n",
       "      <th>AKT1</th>\n",
       "      <td>-0.460568</td>\n",
       "      <td>-0.508198</td>\n",
       "      <td>-0.980796</td>\n",
       "      <td>-1.722610</td>\n",
       "      <td>-0.032241</td>\n",
       "      <td>0.110497</td>\n",
       "      <td>-1.344831</td>\n",
       "      <td>-0.054692</td>\n",
       "      <td>-0.595751</td>\n",
       "    </tr>\n",
       "    <tr>\n",
       "      <th>AKT2</th>\n",
       "      <td>-0.443203</td>\n",
       "      <td>-0.629055</td>\n",
       "      <td>-1.555121</td>\n",
       "      <td>-1.375946</td>\n",
       "      <td>-0.372580</td>\n",
       "      <td>0.247563</td>\n",
       "      <td>-0.798366</td>\n",
       "      <td>-0.170881</td>\n",
       "      <td>-0.554909</td>\n",
       "    </tr>\n",
       "    <tr>\n",
       "      <th>...</th>\n",
       "      <td>...</td>\n",
       "      <td>...</td>\n",
       "      <td>...</td>\n",
       "      <td>...</td>\n",
       "      <td>...</td>\n",
       "      <td>...</td>\n",
       "      <td>...</td>\n",
       "      <td>...</td>\n",
       "      <td>...</td>\n",
       "    </tr>\n",
       "    <tr>\n",
       "      <th>YANK2</th>\n",
       "      <td>-0.442026</td>\n",
       "      <td>0.671203</td>\n",
       "      <td>0.039981</td>\n",
       "      <td>0.294547</td>\n",
       "      <td>-0.177392</td>\n",
       "      <td>0.012497</td>\n",
       "      <td>0.858936</td>\n",
       "      <td>0.139600</td>\n",
       "      <td>-0.425075</td>\n",
       "    </tr>\n",
       "    <tr>\n",
       "      <th>YANK3</th>\n",
       "      <td>-0.228199</td>\n",
       "      <td>0.313594</td>\n",
       "      <td>0.061431</td>\n",
       "      <td>0.126973</td>\n",
       "      <td>-0.306502</td>\n",
       "      <td>0.237808</td>\n",
       "      <td>0.171975</td>\n",
       "      <td>-0.046623</td>\n",
       "      <td>-0.431676</td>\n",
       "    </tr>\n",
       "    <tr>\n",
       "      <th>YSK1</th>\n",
       "      <td>-0.238204</td>\n",
       "      <td>-0.208561</td>\n",
       "      <td>-0.190833</td>\n",
       "      <td>-0.529697</td>\n",
       "      <td>-0.149921</td>\n",
       "      <td>-0.550043</td>\n",
       "      <td>-2.355498</td>\n",
       "      <td>-0.111228</td>\n",
       "      <td>-0.478145</td>\n",
       "    </tr>\n",
       "    <tr>\n",
       "      <th>YSK4</th>\n",
       "      <td>-0.186722</td>\n",
       "      <td>0.133037</td>\n",
       "      <td>-0.069603</td>\n",
       "      <td>-0.541828</td>\n",
       "      <td>0.178747</td>\n",
       "      <td>-1.043943</td>\n",
       "      <td>-0.976816</td>\n",
       "      <td>-0.025618</td>\n",
       "      <td>-0.351074</td>\n",
       "    </tr>\n",
       "    <tr>\n",
       "      <th>ZAK</th>\n",
       "      <td>-0.372954</td>\n",
       "      <td>0.194087</td>\n",
       "      <td>0.297954</td>\n",
       "      <td>-0.529073</td>\n",
       "      <td>-0.559154</td>\n",
       "      <td>-0.667722</td>\n",
       "      <td>-1.479553</td>\n",
       "      <td>-0.014500</td>\n",
       "      <td>-0.470729</td>\n",
       "    </tr>\n",
       "  </tbody>\n",
       "</table>\n",
       "<p>303 rows × 9 columns</p>\n",
       "</div>"
      ],
      "text/plain": [
       "             -5V       -4E       -3P       -2P       -1L        1Q        2E  \\\n",
       "AAK1    0.693230 -0.072179  0.882369 -1.377819  0.152638 -2.091725 -0.168123   \n",
       "ACVR2A  0.023468  0.562865 -0.228030 -1.639355  0.349818  0.297720  0.037312   \n",
       "ACVR2B -0.114660  0.572405 -0.350155 -1.577336  0.464773  0.026588  0.133827   \n",
       "AKT1   -0.460568 -0.508198 -0.980796 -1.722610 -0.032241  0.110497 -1.344831   \n",
       "AKT2   -0.443203 -0.629055 -1.555121 -1.375946 -0.372580  0.247563 -0.798366   \n",
       "...          ...       ...       ...       ...       ...       ...       ...   \n",
       "YANK2  -0.442026  0.671203  0.039981  0.294547 -0.177392  0.012497  0.858936   \n",
       "YANK3  -0.228199  0.313594  0.061431  0.126973 -0.306502  0.237808  0.171975   \n",
       "YSK1   -0.238204 -0.208561 -0.190833 -0.529697 -0.149921 -0.550043 -2.355498   \n",
       "YSK4   -0.186722  0.133037 -0.069603 -0.541828  0.178747 -1.043943 -0.976816   \n",
       "ZAK    -0.372954  0.194087  0.297954 -0.529073 -0.559154 -0.667722 -1.479553   \n",
       "\n",
       "              3T        4F  \n",
       "AAK1   -0.015374 -0.168771  \n",
       "ACVR2A  0.003458 -0.168285  \n",
       "ACVR2B -0.011588 -0.288417  \n",
       "AKT1   -0.054692 -0.595751  \n",
       "AKT2   -0.170881 -0.554909  \n",
       "...          ...       ...  \n",
       "YANK2   0.139600 -0.425075  \n",
       "YANK3  -0.046623 -0.431676  \n",
       "YSK1   -0.111228 -0.478145  \n",
       "YSK4   -0.025618 -0.351074  \n",
       "ZAK    -0.014500 -0.470729  \n",
       "\n",
       "[303 rows x 9 columns]"
      ]
     },
     "execution_count": 74,
     "metadata": {},
     "output_type": "execute_result"
    }
   ],
   "source": [
    "# log2 transform the scores\n",
    "df = df.apply(lambda x: np.log2(x)) \n",
    "df"
   ]
  },
  {
   "cell_type": "code",
   "execution_count": 60,
   "metadata": {},
   "outputs": [
    {
     "data": {
      "text/plain": [
       "{0: 'S',\n",
       " 1: 'Q',\n",
       " 2: 'E',\n",
       " 3: 'T',\n",
       " 4: 'F',\n",
       " 5: 'S',\n",
       " 6: 'D',\n",
       " -1: 'L',\n",
       " -2: 'P',\n",
       " -3: 'P',\n",
       " -4: 'E',\n",
       " -5: 'V'}"
      ]
     },
     "execution_count": 60,
     "metadata": {},
     "output_type": "execute_result"
    }
   ],
   "source": []
  },
  {
   "cell_type": "markdown",
   "metadata": {},
   "source": []
  }
 ],
 "metadata": {
  "kernelspec": {
   "display_name": "alphamap",
   "language": "python",
   "name": "python3"
  },
  "language_info": {
   "codemirror_mode": {
    "name": "ipython",
    "version": 3
   },
   "file_extension": ".py",
   "mimetype": "text/x-python",
   "name": "python",
   "nbconvert_exporter": "python",
   "pygments_lexer": "ipython3",
   "version": "3.8.16"
  },
  "orig_nbformat": 4,
  "vscode": {
   "interpreter": {
    "hash": "4fec45262150fb22ecec58d34c6850d670a612d1dbc7ffef5c7c32ab4bac69bd"
   }
  }
 },
 "nbformat": 4,
 "nbformat_minor": 2
}
